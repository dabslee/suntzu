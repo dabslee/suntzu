{
 "cells": [
  {
   "cell_type": "markdown",
   "metadata": {},
   "source": [
    "# Prototype Model\n",
    "- Two agents on a 1D field\n",
    "- Each agent has some movement, an action (attack, disengage, dash), an AC, and HP\n",
    "- Agent gets +1 reward if enemy falls to 0 hp. Agent gets -1 reward if they fall to 0 hp."
   ]
  },
  {
   "cell_type": "code",
   "execution_count": 4,
   "metadata": {},
   "outputs": [],
   "source": [
    "# Import necessary libraries\n",
    "import dice"
   ]
  },
  {
   "cell_type": "code",
   "execution_count": 5,
   "metadata": {},
   "outputs": [],
   "source": [
    "# Define agents\n",
    "class Agent:\n",
    "    def __init__(self, ac=16, max_hp=11, speed=6, range=1, to_hit=3, damage=\"1d6+1\", position=0):\n",
    "\n",
    "        # Instance variables\n",
    "        self.ac = ac\n",
    "        self.max_hp = max_hp\n",
    "        self.speed = speed\n",
    "        self.range = range\n",
    "        self.to_hit = to_hit\n",
    "        self.damage = damage\n",
    "\n",
    "        # State variables\n",
    "        self.hp = max_hp\n",
    "        self.position = position"
   ]
  },
  {
   "cell_type": "code",
   "execution_count": 6,
   "metadata": {},
   "outputs": [],
   "source": [
    "# Set parameters\n",
    "win_reward = 1\n",
    "lose_reward = -1\n",
    "\n",
    "gamma = 0.99  # Discount factor for past rewards\n",
    "epsilon = 1.0  # Epsilon greedy parameter\n",
    "epsilon_min = 0.1  # Minimum epsilon greedy parameter\n",
    "epsilon_max = 1.0  # Maximum epsilon greedy parameter\n",
    "epsilon_interval = (\n",
    "    epsilon_max - epsilon_min\n",
    ")  # Rate at which to reduce chance of random action being taken\n",
    "batch_size = 32  # Size of batch taken from replay buffer\n",
    "max_steps_per_episode = 10000\n",
    "\n",
    "agent1 = Agent(ac=16, max_hp=32, speed=6, range=1, to_hit=4, damage=\"2d6+2\", position=0)\n",
    "agent2 = Agent(ac=13, max_hp=16, speed=7, range=30, to_hit=4, damage=\"1d8+2\", position=6)"
   ]
  },
  {
   "cell_type": "code",
   "execution_count": null,
   "metadata": {},
   "outputs": [],
   "source": []
  }
 ],
 "metadata": {
  "kernelspec": {
   "display_name": "Python 3",
   "language": "python",
   "name": "python3"
  },
  "language_info": {
   "codemirror_mode": {
    "name": "ipython",
    "version": 3
   },
   "file_extension": ".py",
   "mimetype": "text/x-python",
   "name": "python",
   "nbconvert_exporter": "python",
   "pygments_lexer": "ipython3",
   "version": "3.10.0"
  },
  "orig_nbformat": 4
 },
 "nbformat": 4,
 "nbformat_minor": 2
}
